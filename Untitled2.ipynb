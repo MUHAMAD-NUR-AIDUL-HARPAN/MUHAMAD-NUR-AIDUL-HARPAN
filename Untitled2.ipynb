{
  "nbformat": 4,
  "nbformat_minor": 0,
  "metadata": {
    "colab": {
      "provenance": [],
      "authorship_tag": "ABX9TyM4I8qu6WDaAKN0pwPEVSQN",
      "include_colab_link": true
    },
    "kernelspec": {
      "name": "python3",
      "display_name": "Python 3"
    },
    "language_info": {
      "name": "python"
    }
  },
  "cells": [
    {
      "cell_type": "markdown",
      "metadata": {
        "id": "view-in-github",
        "colab_type": "text"
      },
      "source": [
        "<a href=\"https://colab.research.google.com/github/MUHAMAD-NUR-AIDUL-HARPAN/MUHAMAD-NUR-AIDUL-HARPAN/blob/main/Untitled2.ipynb\" target=\"_parent\"><img src=\"https://colab.research.google.com/assets/colab-badge.svg\" alt=\"Open In Colab\"/></a>"
      ]
    },
    {
      "cell_type": "code",
      "source": [
        "\n",
        "print(\"NAMA\\t= MUHAMAD NUR AIDUL HARPAN\")\n",
        "print(\"KELAS\\t= TI22J\")\n",
        "print(\"NIM\\t= 20220040237\")\n",
        "print(\"====================================\")\n",
        "print(\"MENU :\\n1.Luas segitiga\")\n",
        "print(\"2.Luas persegi panjang\")\n",
        "print(\"3.Menentukan bilangan Ganjil & Genap\\n4.quit\")\n",
        "\n",
        "def Luas_segitiga():\n",
        "    print(\"==========LUAS SEGITIGA==========\")\n",
        "    alas = int(input(\"Masukan nilai alas \\t: \"))\n",
        "    tinggi = int(input(\"masukan nilai tinggi \\t: \"))\n",
        "    luas = 0.5* alas * tinggi\n",
        "    \n",
        "    print(\"luas segitiga adalah \\t=\",luas, \"cm\\n\")\n",
        "\n",
        "def Luas_persegi_panjang():\n",
        "    print(\"=========LUAS PERSEGI PANJANG=========\")\n",
        "    panjang = int(input(\"masukan nilai panjang\\t : \"))\n",
        "    lebar = int(input(\"masukan nilai lebar \\t : \"))\n",
        "    luas = panjang * lebar\n",
        "    \n",
        "    print(\"Luas persegi panjang adalah = \",luas,\"cm\\n\")\n",
        "    \n",
        "def Bilangan_Ganjil_Genap():\n",
        "    print(\"=========BILANGAN GANJIL & GENAP=======\")\n",
        "    awal = int(input(\"masukan angka awal \\t: \"))\n",
        "    akhir = int(input(\"masukan angka akhir\\t: \"))\n",
        "    x = [ ]\n",
        "    y = [ ]\n",
        "    \n",
        "    for i in range(awal,akhir+1):\n",
        "        if i % 2 == 0:\n",
        "            x.append(i)\n",
        "        if i % 2 == 1:\n",
        "            y.append(i)\n",
        "    print(\"Angka genap \\t= \",x)\n",
        "    print(\"Angka ganjil \\t= \", y,\"\\n\")\n",
        "        \n",
        "while True:\n",
        "        inputUser = int(input(\"Masukan pilihan anda = \"))\n",
        "        \n",
        "        if (inputUser == 1):\n",
        "            Luas_segitiga()\n",
        "        elif (inputUser == 2):\n",
        "            Luas_persegi_panjang()\n",
        "        elif(inputUser == 3):\n",
        "            Bilangan_Ganjil_Genap()\n",
        "        else :\n",
        "            print(\"PROGRAM SELESAI TERIMAKASIH\")\n",
        "            break"
      ],
      "metadata": {
        "id": "XN2UQExPgHR5",
        "outputId": "6eebdd01-215d-450b-c76a-b386b2526d4a",
        "colab": {
          "base_uri": "https://localhost:8080/"
        }
      },
      "execution_count": null,
      "outputs": [
        {
          "metadata": {
            "tags": null
          },
          "name": "stdout",
          "output_type": "stream",
          "text": [
            "NAMA\t= MUHAMAD NUR AIDUL HARPAN\n",
            "KELAS\t= TI22J\n",
            "NIM\t= 20220040237\n",
            "====================================\n",
            "MENU :\n",
            "1.Luas segitiga\n",
            "2.Luas persegi panjang\n",
            "3.Menentukan bilangan Ganjil & Genap\n",
            "4.quit\n"
          ]
        }
      ]
    }
  ]
}