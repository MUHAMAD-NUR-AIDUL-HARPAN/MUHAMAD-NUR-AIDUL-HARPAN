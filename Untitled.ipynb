{
  "nbformat": 4,
  "nbformat_minor": 0,
  "metadata": {
    "colab": {
      "provenance": [],
      "authorship_tag": "ABX9TyOLXuyjYTh3jIR3wzdj8bd0",
      "include_colab_link": true
    },
    "kernelspec": {
      "name": "python3",
      "display_name": "Python 3"
    },
    "language_info": {
      "name": "python"
    }
  },
  "cells": [
    {
      "cell_type": "markdown",
      "metadata": {
        "id": "view-in-github",
        "colab_type": "text"
      },
      "source": [
        "<a href=\"https://colab.research.google.com/github/MUHAMAD-NUR-AIDUL-HARPAN/MUHAMAD_NUR_AIDUL_HARPAN/blob/main/Untitled.ipynb\" target=\"_parent\"><img src=\"https://colab.research.google.com/assets/colab-badge.svg\" alt=\"Open In Colab\"/></a>"
      ]
    },
    {
      "cell_type": "code",
      "source": [
        "#@title\n",
        "a, b = 10,5\n",
        "Hasil = (a+b) \n",
        "print(Hasil)"
      ],
      "metadata": {
        "colab": {
          "base_uri": "https://localhost:8080/"
        },
        "id": "TzEs9TCFnx3B",
        "outputId": "2eeeb4c8-eafd-4a1f-f5ba-8e0a892aa224"
      },
      "execution_count": null,
      "outputs": [
        {
          "output_type": "stream",
          "name": "stdout",
          "text": [
            "15\n"
          ]
        }
      ]
    },
    {
      "cell_type": "code",
      "source": [],
      "metadata": {
        "id": "9dArYAHmcKxh"
      },
      "execution_count": null,
      "outputs": []
    },
    {
      "cell_type": "code",
      "source": [
        "a, b, c = 15,10,5\n",
        "print (a*b*c)"
      ],
      "metadata": {
        "id": "rSkRDi46qtBw",
        "colab": {
          "base_uri": "https://localhost:8080/"
        },
        "outputId": "b663fc6a-0867-4f3e-84c1-fcd81dc81956"
      },
      "execution_count": null,
      "outputs": [
        {
          "output_type": "stream",
          "name": "stdout",
          "text": [
            "750\n"
          ]
        }
      ]
    },
    {
      "cell_type": "code",
      "source": [
        "a,b = 10,5\n",
        "print(a==b)"
      ],
      "metadata": {
        "colab": {
          "base_uri": "https://localhost:8080/"
        },
        "id": "Vc62nLPDCZ_D",
        "outputId": "3d517735-9f48-4543-83d3-a666ebcfdbd2"
      },
      "execution_count": null,
      "outputs": [
        {
          "output_type": "stream",
          "name": "stdout",
          "text": [
            "False\n"
          ]
        }
      ]
    },
    {
      "cell_type": "code",
      "source": [],
      "metadata": {
        "id": "5VNVCmYtD3hp"
      },
      "execution_count": null,
      "outputs": []
    },
    {
      "cell_type": "code",
      "source": [
        "a, b = 12,5\n",
        "print(a//b)"
      ],
      "metadata": {
        "colab": {
          "base_uri": "https://localhost:8080/"
        },
        "id": "zJYZIbVgp8VS",
        "outputId": "538f3b89-9976-4a52-9fc9-605add99f5d1"
      },
      "execution_count": null,
      "outputs": [
        {
          "output_type": "stream",
          "name": "stdout",
          "text": [
            "2\n"
          ]
        }
      ]
    },
    {
      "cell_type": "code",
      "source": [],
      "metadata": {
        "id": "SMR4j2pfDw0Q"
      },
      "execution_count": null,
      "outputs": []
    },
    {
      "cell_type": "code",
      "source": [
        "a, b = 10,5\n",
        "a +=b\n",
        "print(a)"
      ],
      "metadata": {
        "colab": {
          "base_uri": "https://localhost:8080/"
        },
        "id": "ZkMcuUuDq-M2",
        "outputId": "0aa1ab5e-8d50-47f7-ce31-c1e620f9a005"
      },
      "execution_count": null,
      "outputs": [
        {
          "output_type": "stream",
          "name": "stdout",
          "text": [
            "15\n"
          ]
        }
      ]
    },
    {
      "cell_type": "code",
      "source": [
        "a, b = 10,8\n",
        "print (a!=b)"
      ],
      "metadata": {
        "colab": {
          "base_uri": "https://localhost:8080/"
        },
        "id": "Jmxhd58sr62a",
        "outputId": "e22f7c16-e75a-4f7f-8b08-3e21715783f8"
      },
      "execution_count": null,
      "outputs": [
        {
          "output_type": "stream",
          "name": "stdout",
          "text": [
            "True\n"
          ]
        }
      ]
    },
    {
      "cell_type": "code",
      "source": [
        "a, b = 10,8\n",
        "print(a==b)"
      ],
      "metadata": {
        "colab": {
          "base_uri": "https://localhost:8080/"
        },
        "id": "77lrv42osNq2",
        "outputId": "e3e7d4df-a5a8-4505-b81e-eef4927b5d82"
      },
      "execution_count": null,
      "outputs": [
        {
          "output_type": "stream",
          "name": "stdout",
          "text": [
            "False\n"
          ]
        }
      ]
    },
    {
      "cell_type": "code",
      "source": [
        "a, b = 10,8\n",
        "print(a>b)"
      ],
      "metadata": {
        "colab": {
          "base_uri": "https://localhost:8080/"
        },
        "id": "d_5NiXFescyP",
        "outputId": "7f18b843-5b36-42e7-e73d-b2b6aa938d0f"
      },
      "execution_count": null,
      "outputs": [
        {
          "output_type": "stream",
          "name": "stdout",
          "text": [
            "True\n"
          ]
        }
      ]
    },
    {
      "cell_type": "code",
      "source": [
        "a, b = 10,10\n",
        "print(a <=b)"
      ],
      "metadata": {
        "colab": {
          "base_uri": "https://localhost:8080/"
        },
        "id": "ZOprCFtTswpl",
        "outputId": "7ff6dac8-cfef-41f6-b825-673613f7438b"
      },
      "execution_count": null,
      "outputs": [
        {
          "output_type": "stream",
          "name": "stdout",
          "text": [
            "True\n"
          ]
        }
      ]
    },
    {
      "cell_type": "code",
      "source": [
        "\n",
        "\n",
        "nilai_1 = True\n",
        "nilai_2 = False\n",
        "nilai_3 = True\n",
        "nilai_4 = False\n",
        "\n",
        "print(\"nilai_1 and nilai_2= \" +str(nilai_1 or nilai_3))"
      ],
      "metadata": {
        "colab": {
          "base_uri": "https://localhost:8080/"
        },
        "id": "Fon82WpFtVcd",
        "outputId": "bbc3234f-03a1-492e-fd58-d720864662bf"
      },
      "execution_count": null,
      "outputs": [
        {
          "output_type": "stream",
          "name": "stdout",
          "text": [
            "nilai_1 and nilai_2= True\n"
          ]
        }
      ]
    },
    {
      "cell_type": "code",
      "source": [
        "a, b = 10,5\n",
        "print(a is not b)"
      ],
      "metadata": {
        "colab": {
          "base_uri": "https://localhost:8080/"
        },
        "id": "tshAJb5HwFQa",
        "outputId": "39d149f3-f36c-4f62-c9ef-07cd7e964cdd"
      },
      "execution_count": null,
      "outputs": [
        {
          "output_type": "stream",
          "name": "stdout",
          "text": [
            "True\n"
          ]
        }
      ]
    },
    {
      "cell_type": "code",
      "source": [],
      "metadata": {
        "id": "o-lXc4lQeQPj"
      },
      "execution_count": null,
      "outputs": []
    },
    {
      "cell_type": "code",
      "source": [
        "nama = \" Faqih\"\n",
        "hoby = [\"bermain\", \"ngoding\", \"Jalan-jalan\"]\n",
        "\n",
        "#cari huruf h di variabel nama\n",
        "print(\"bermain\" in nama)"
      ],
      "metadata": {
        "colab": {
          "base_uri": "https://localhost:8080/"
        },
        "id": "aCkOjFx4wi3P",
        "outputId": "d863fc9e-ed9f-48ff-de21-ec882f3fcd92"
      },
      "execution_count": null,
      "outputs": [
        {
          "output_type": "stream",
          "name": "stdout",
          "text": [
            "False\n"
          ]
        }
      ]
    },
    {
      "cell_type": "code",
      "source": [],
      "metadata": {
        "id": "hFC2ZCRLiRQR"
      },
      "execution_count": null,
      "outputs": []
    },
    {
      "cell_type": "code",
      "source": [
        "nama = \"Andi\"\n",
        "BahasaPemrograman = [\"c++\", \"Python\", \"Java\"]\n",
        "print(\"z\" not in nama)"
      ],
      "metadata": {
        "colab": {
          "base_uri": "https://localhost:8080/"
        },
        "id": "YjbFWWNmxlME",
        "outputId": "cf748298-3603-4598-c9da-64de128cf15c"
      },
      "execution_count": null,
      "outputs": [
        {
          "output_type": "stream",
          "name": "stdout",
          "text": [
            "True\n"
          ]
        }
      ]
    },
    {
      "cell_type": "code",
      "source": [],
      "metadata": {
        "id": "N2eA2rBZvEyO"
      },
      "execution_count": null,
      "outputs": []
    },
    {
      "cell_type": "code",
      "source": [
        "x = 10\n",
        "y = 12\n",
        "print(\"x berisi angka\",x,\"desimal atau\",bin(x),\"biner\")\n",
        "print(\"y berisi angka\",y,\"desimal atau\",bin(y),\"biner\")\n",
        "print(\"\\n\")\n",
        "print(\"x & y =\",x & y)"
      ],
      "metadata": {
        "id": "d_x25aslygAe"
      },
      "execution_count": null,
      "outputs": []
    },
    {
      "cell_type": "code",
      "source": [
        "# NAMA  = MUHAMAD NUR AIDUL HARPAN\n",
        "# NIM   = 20220040237\n",
        "# NO 1\n",
        "1.Operator digunakan untuk melakukan operasi pada variabel dan nilai.pada  contoh 1,dapat menggunakan operator + untuk menjumlahkan dua nilai.\n",
        "  contoh \n",
        "  print(10+5)\n",
        "  #15\n",
        " Python membagi operator dalam grup berikut\n",
        "  A.Operator aritmatika\n",
        "  B.Operator penugasan\n",
        "  C.Operator perbandingan\n",
        "  D.Operator logika\n",
        "  E.Operator identitas\n",
        "  F.Operator keanggotaan\n",
        "  G.Operator bitwise\n",
        "\n",
        "  A.OPERATOR ARITMATIKA PYTHON\n",
        "    digunakan dengan nilai numerik untuk melakukan operasi matematika umum.\n",
        "    contoh\n",
        "    x, y = 5,10\n",
        "    hasil = x + y\n",
        "    print(hasil)\n",
        "    #15\n",
        "\n",
        "  B.OPERATOR PENUGASAN\n",
        "   digunakan untuk menetapkan variabel\n",
        "    contoh \n",
        "    a = 15\n",
        "    print(a)\n",
        "    #15\n",
        "\n",
        "  C.Operator perbandingan digunakan untuk membandingkan dua nilai\n",
        "    Contoh\n",
        "    x, y = 10, 10\n",
        "    print(x == y)\n",
        "    #True\n",
        "\n",
        "  D.OPERATOR LOGIKA PYTHON\n",
        "    Jenis-jenis gerbang logika\n",
        "    1.Gerbang AND = memerlukan dua atau lebih input untuk menghasilkan satu ouput\n",
        "    2.Gerbang OR = sama seperti seperti gerbang sebelumnya,gerbang ini juga memerlukan dua input untuk menghasilkan satu output\n",
        "    2.Gerbang NOT = Gerbang NOT berfungsi sebagai pembalik keadaan.\n",
        "    3.Gerbang NOR = adalah gabungan dari Gerbang OR dan Gerbang NOR.\n",
        "    4.Gerbang XOR = Gerbang XOR memerulukan dua input untuk menghasilkan satu output.\n",
        "    5.Gerbang XNOR = Gerbang XNOR memerlukan dua input untuk menghasilkan satu output.\n",
        "\n",
        "  E.OPERATOR IDENTITAS PYTHON\n",
        "    Operator identitas digunakan untuk membandingkan objek bukan mereka sama.tetapi mereka sebenarnya adalah objek yang sama, dengan lokasi memori yang sama.\n",
        "    x is y :  Mengembalikan True jika kedua variabel adalah objek yang sama\n",
        "    contoh\n",
        "    x, y = 10, 10\n",
        "    print(x is y)\n",
        "    #True\n",
        "\n",
        "     x is not y : Mengembalikan True jika kedua variabel bukan objek yang sama\n",
        "     contoh\n",
        "     x, y = 5, 10\n",
        "     print(x is not y)\n",
        "     #True\n",
        "\n",
        "  F.OPERATOR KEANGGOTAAN PYTHON\n",
        "    Operator keanggotaan digunakan untuk menguji apakah urutan di sajikan dalam suatu objek\n",
        "    is = Mengembalikan True jika kedua variabel adalah objek yang sama\n",
        "    is not = Mengeblaik True jika kedua variabel bukan objek yang sama\n",
        "\n",
        "  G. OPERATOR BITWISE PYTHON\n",
        "    Bitwise adalah operator khusus untuk menangani operasi logika bilangan biner dalam bentuk bit."
      ],
      "metadata": {
        "id": "k-eC8IJ4x-x-"
      },
      "execution_count": null,
      "outputs": []
    },
    {
      "cell_type": "code",
      "source": [
        "# NO 2\n",
        "a = 200/20-30\n",
        "b = 100*21.9**2/100+10/20\n",
        "print(a + b)"
      ],
      "metadata": {
        "id": "IZmAURgWx3Ca",
        "colab": {
          "base_uri": "https://localhost:8080/"
        },
        "outputId": "b0d7905b-3b62-4e59-c97c-88d341fdff0a"
      },
      "execution_count": null,
      "outputs": [
        {
          "output_type": "stream",
          "name": "stdout",
          "text": [
            "460.1099999999999\n"
          ]
        }
      ]
    },
    {
      "cell_type": "code",
      "source": [
        "print(200/20-30 + 100*21.9**2/100+10/20)"
      ],
      "metadata": {
        "colab": {
          "base_uri": "https://localhost:8080/"
        },
        "id": "GJPTUxbWZ3bp",
        "outputId": "48310b85-8a7c-4674-d705-7c1972f9d908"
      },
      "execution_count": null,
      "outputs": [
        {
          "output_type": "stream",
          "name": "stdout",
          "text": [
            "460.1099999999999\n"
          ]
        }
      ]
    },
    {
      "cell_type": "code",
      "source": [
        "# NO 3\n",
        "x = 100\n",
        "y = 10\n",
        "z = 68\n",
        "\n",
        "print(\"x berisi angka\",x ,\"desimal atau \",bin(x),\"biner\")\n",
        "print(\"y berisi angka\",y ,\"desimal atau \",bin(y),\"biner\")\n",
        "print(\"z berisi angka\",x ,\"desimal atau \",bin(z),\"biner\")\n",
        "print(\"\\n\")\n",
        "print(\"a.x&y&z\\t\\t= \",x&y&z)\n",
        "print(\"b.x^y<<5>>2\\t= \",x^y<<5>>2)\n",
        "print(\"c.~x&~y|~z\\t= \",~x&~y|~z)\n",
        "\n"
      ],
      "metadata": {
        "colab": {
          "base_uri": "https://localhost:8080/"
        },
        "id": "9Z5ZgzYmeTbd",
        "outputId": "d3339616-df31-4046-d32f-7bfa1bfef329"
      },
      "execution_count": null,
      "outputs": [
        {
          "output_type": "stream",
          "name": "stdout",
          "text": [
            "x berisi angka 100 desimal atau  0b1100100 biner\n",
            "y berisi angka 10 desimal atau  0b1010 biner\n",
            "z berisi angka 100 desimal atau  0b1000100 biner\n",
            "\n",
            "\n",
            "a.x&y&z\t\t=  0\n",
            "b.x^y<<5>>2\t=  52\n",
            "c.~x&~y|~z\t=  -69\n"
          ]
        }
      ]
    },
    {
      "cell_type": "code",
      "source": [
        "# NO 4\n",
        "x = 0b1100100\n",
        "y = 0b110010\n",
        "z = 0b101\n",
        "print(\"x =\",x)\n",
        "print(\"y =\",y)\n",
        "print(\"z =\",z)\n",
        "print(\"\\n\")\n",
        "print(\"x-y/z\\t\\t =\",x-y/z)\n",
        "print(\"(x*z)+y/x-z+z\\t =\",(x*z)+y/x-z+z)"
      ],
      "metadata": {
        "id": "9FFgg1XqjSEX"
      },
      "execution_count": null,
      "outputs": []
    },
    {
      "cell_type": "code",
      "source": [],
      "metadata": {
        "colab": {
          "base_uri": "https://localhost:8080/"
        },
        "id": "78H6PTWUpHgF",
        "outputId": "50243a60-393c-4dbf-cec3-36e830366d63"
      },
      "execution_count": null,
      "outputs": [
        {
          "output_type": "stream",
          "name": "stdout",
          "text": [
            "\n"
          ]
        }
      ]
    },
    {
      "cell_type": "code",
      "source": [
        "nama = input(\"masukan nama \\t: \")\n",
        "nim = input(\"masukan nim \\t: \")\n",
        "prodi = input(\"masukan prodi \\t: \")\n",
        "tempat_lahir = input(\"tempat lahir \\t: \")\n",
        "no_telp = input(\"no telp \\t:\")\n",
        "print(\"\\n\")\n",
        "print(\"=========BIDODATA=========\")\n",
        "print(\"nama lengkap\\t: \",nama)\n",
        "print(\"nim \\t: \",nim)\n",
        "print(\"prodi \\t\\t: \",prodi)\n",
        "print(\"tempat lahir \\t: \",tempat_lahir)\n",
        "print(\"no telp \\t: \",no_telp)\n"
      ],
      "metadata": {
        "colab": {
          "base_uri": "https://localhost:8080/"
        },
        "id": "_9GmHK_ppUWa",
        "outputId": "13747e14-9c69-4eb9-f0fb-481d80f90106"
      },
      "execution_count": null,
      "outputs": [
        {
          "output_type": "stream",
          "name": "stdout",
          "text": [
            "masukan nama \t: ha\n",
            "masukan nim \t: 12\n",
            "masukan prodi \t: ti\n",
            "tempat lahir \t: su\n",
            "no telp \t: 08\n",
            "\n",
            "\n",
            "=========BIDODATA=========\n",
            "nama \t:  ha\n",
            "nim \t:  12\n",
            "prodi \t:  ti\n",
            "tempat lahir \t:  su\n",
            "no telp \t:   08\n"
          ]
        }
      ]
    },
    {
      "cell_type": "code",
      "source": [
        "for i in range(10):\n",
        "    print(f\"tutorial pemrograman Python ke -{i}\")"
      ],
      "metadata": {
        "id": "7tM5FjgvsHrp",
        "colab": {
          "base_uri": "https://localhost:8080/"
        },
        "outputId": "e1321cfc-e473-4909-bed1-c78b3a768d73"
      },
      "execution_count": null,
      "outputs": [
        {
          "output_type": "stream",
          "name": "stdout",
          "text": [
            "tutorial pemrograman Python ke -0\n",
            "tutorial pemrograman Python ke -1\n",
            "tutorial pemrograman Python ke -2\n",
            "tutorial pemrograman Python ke -3\n",
            "tutorial pemrograman Python ke -4\n",
            "tutorial pemrograman Python ke -5\n",
            "tutorial pemrograman Python ke -6\n",
            "tutorial pemrograman Python ke -7\n",
            "tutorial pemrograman Python ke -8\n",
            "tutorial pemrograman Python ke -9\n"
          ]
        }
      ]
    },
    {
      "cell_type": "code",
      "source": [
        "for i in range (10, 16) :\n",
        "    print(\"i =\", i)"
      ],
      "metadata": {
        "colab": {
          "base_uri": "https://localhost:8080/"
        },
        "id": "q16mMyI4H7Mf",
        "outputId": "d638a496-8898-4563-de0d-497006e0f4b4"
      },
      "execution_count": null,
      "outputs": [
        {
          "output_type": "stream",
          "name": "stdout",
          "text": [
            "i = 10\n",
            "i = 11\n",
            "i = 12\n",
            "i = 13\n",
            "i = 14\n",
            "i = 15\n"
          ]
        }
      ]
    },
    {
      "cell_type": "code",
      "source": [
        "i = 0\n",
        "while i < 10:\n",
        "  print(i) \n",
        "  i += 1"
      ],
      "metadata": {
        "id": "NqkHI1VdJWXl",
        "colab": {
          "base_uri": "https://localhost:8080/"
        },
        "outputId": "9be368f3-bae4-4357-879e-0be5b814c39c"
      },
      "execution_count": null,
      "outputs": [
        {
          "output_type": "stream",
          "name": "stdout",
          "text": [
            "0\n",
            "1\n",
            "2\n",
            "3\n",
            "4\n",
            "5\n",
            "6\n",
            "7\n",
            "8\n",
            "9\n"
          ]
        }
      ]
    },
    {
      "cell_type": "code",
      "source": [
        "while (1+2 == 3):\n",
        " print(\"halo dunia\")"
      ],
      "metadata": {
        "id": "VbE8oXr6Lvq3"
      },
      "execution_count": null,
      "outputs": []
    },
    {
      "cell_type": "code",
      "source": [],
      "metadata": {
        "id": "gSfLlUR0Q-Sj"
      },
      "execution_count": null,
      "outputs": []
    },
    {
      "cell_type": "code",
      "source": [
        "i = 0\n",
        "while i < 10:\n",
        " print (i) \n",
        " i +="
      ],
      "metadata": {
        "id": "83SIGVxDOdKZ"
      },
      "execution_count": null,
      "outputs": []
    },
    {
      "cell_type": "code",
      "source": [
        "while True :\n",
        "    a = input(\"input string:\") \n",
        "    if a == \"quit\":\n",
        "     break\n",
        "print('lenght of a is {}'.format(len(a)))"
      ],
      "metadata": {
        "id": "_KBDSnE3Q_BN"
      },
      "execution_count": null,
      "outputs": []
    },
    {
      "cell_type": "code",
      "source": [
        "fruits = [\"a\", \"b\", \"c\", \" d\"\n",
        "for i in fruits:\n",
        "    if i == \"c\":\n",
        "      continue\n",
        "print(\" my fruit is {}\".format(i))"
      ],
      "metadata": {
        "id": "fTByR3shRAbA"
      },
      "execution_count": null,
      "outputs": []
    },
    {
      "cell_type": "code",
      "source": [
        "for i in range (3) :\n",
        "     print(\"perulangan luar[i] =\",i) \n",
        "     for j in range (5):\n",
        "       print(\"perulangan dalam[i,j] =\"str(i) +','+str(j))"
      ],
      "metadata": {
        "id": "kl_M2IXISKKK",
        "colab": {
          "base_uri": "https://localhost:8080/",
          "height": 148
        },
        "outputId": "6f9f596c-4ad6-4f14-8c75-78323cfb10d6"
      },
      "execution_count": null,
      "outputs": [
        {
          "output_type": "error",
          "ename": "SyntaxError",
          "evalue": "ignored",
          "traceback": [
            "\u001b[0;36m  File \u001b[0;32m\"<ipython-input-1-abd0871a8510>\"\u001b[0;36m, line \u001b[0;32m4\u001b[0m\n\u001b[0;31m    print(\"perulangan dalam[i,j] =\"str(i) +','+str(j))\u001b[0m\n\u001b[0m                                     ^\u001b[0m\n\u001b[0;31mSyntaxError\u001b[0m\u001b[0;31m:\u001b[0m invalid syntax\n"
          ]
        }
      ]
    },
    {
      "cell_type": "code",
      "source": [
        "print(\"=====program kelulusan=====\".upper())\n",
        "nama = input(\"masukan nama anda = \") \n",
        "nilaiUts = int(input(\"masukan nilai uts =\")) \n",
        "nilaiUas = int(input(\"masukan nilai uas =\")) \n",
        "\n",
        "if nilaiUts >= 65:\n",
        "  if nilaiUas >= 70:\n",
        "   print(\"Selamat\", nama, \"anda lulus\") \n",
        "  else:\n",
        "   print(\" Tingkat lagi, belajarnya\") \n",
        "else:\n",
        "print(nama,\"tidak lulus\")"
      ],
      "metadata": {
        "colab": {
          "base_uri": "https://localhost:8080/",
          "height": 149
        },
        "id": "klIthGklzq0L",
        "outputId": "59b8fc86-da5d-4ccb-fa01-712f42d71a65"
      },
      "execution_count": null,
      "outputs": [
        {
          "output_type": "error",
          "ename": "IndentationError",
          "evalue": "ignored",
          "traceback": [
            "\u001b[0;36m  File \u001b[0;32m\"<ipython-input-8-1b6c427b13ef>\"\u001b[0;36m, line \u001b[0;32m12\u001b[0m\n\u001b[0;31m    print(nama,\"tidak lulus\")\u001b[0m\n\u001b[0m        ^\u001b[0m\n\u001b[0;31mIndentationError\u001b[0m\u001b[0;31m:\u001b[0m expected an indented block\n"
          ]
        }
      ]
    },
    {
      "cell_type": "code",
      "source": [
        "print(\"============\")\n",
        "print(\"program login\")\n",
        "print(\"============\")\n",
        "\n",
        "ps = input(\"masukan pasword = \")\n",
        "if ps == \"Harpan\":\n",
        "  print(\"selamat datang di aplikasi harpan\")\n",
        "else: \n",
        "  print(\"kata sandi anda salah \")"
      ],
      "metadata": {
        "colab": {
          "base_uri": "https://localhost:8080/"
        },
        "id": "QhR1KKCtcNQz",
        "outputId": "b2187663-9cf0-4d0e-940c-c043cb5ad96c"
      },
      "execution_count": null,
      "outputs": [
        {
          "output_type": "stream",
          "name": "stdout",
          "text": [
            "============\n",
            "program login\n",
            "============\n"
          ]
        }
      ]
    },
    {
      "cell_type": "code",
      "source": [
        "print(\"=\"*30 )\n",
        "print('PROGRAM MENGHITUNG LUAS')\n",
        "print('='*30)\n",
        "print('1).luas segitiga\\n2).luas persegi panjang \\n3).keliling persegi panjang ')\n",
        "\n",
        "\n",
        "def luas_segitiga ():\n",
        "    print('='*30,'PROGRAM LUAS SEGITIGA','='*30)\n",
        "    alas = float(input('masukan nilai alas\\t = '))\n",
        "    tinggi = float(input('masukann nilai tinggi \\t= '))\n",
        "    luas = 1/2 * alas * tinggi\n",
        "    print('luas segitiga adalah = ',luas )\n",
        "\n",
        "def luas_persegi_panjang():\n",
        "    print('='*30,'PROGRAM PERSEGI PANJANG','='*30)\n",
        "    panjang = int(input('masuknan nilai panjang\\t = '))\n",
        "    lebar = int(input('masukan nilai lebar \\t= '))\n",
        "    l = panjang * lebar \n",
        "    print('luas persegi panjang adaah = ',l)\n",
        "\n",
        "def keliling_persegi_panjang():\n",
        "    print('='*30,'KELILING PERSEGI PANJANG','='*30)\n",
        "    panjang = int(input('masukan nilai panjang \\t = '))\n",
        "    lebar = int(input('masukan nilai lebar\\t = '))\n",
        "    keliling = panjang + lebar + panjang + lebar\n",
        "    print('keliling persegi panjang adalah \\t= ',keliling)\n",
        "    \n",
        "while True:\n",
        "  \n",
        "    user = input('masukan angka untuk masuk program  = ')\n",
        "   \n",
        "    if (user == '1'):\n",
        "        luas_segitiga()\n",
        "    elif(user == '2'):\n",
        "        luas_persegi_panjang()\n",
        "    elif(user == '3'):\n",
        "        keliling_persegi_panjang()\n",
        "    elif(user == 'Y'):\n",
        "        user\n",
        "    elif(user == 'N'):\n",
        "        print('program selesai ')\n",
        "        break\n",
        "    else:\n",
        "        print('masukan kode yang benar')"
      ],
      "metadata": {
        "id": "pgsDsJdVuyiD"
      },
      "execution_count": null,
      "outputs": []
    }
  ]
}