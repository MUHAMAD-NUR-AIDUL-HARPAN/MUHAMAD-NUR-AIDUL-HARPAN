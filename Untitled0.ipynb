{
  "nbformat": 4,
  "nbformat_minor": 0,
  "metadata": {
    "colab": {
      "provenance": [],
      "authorship_tag": "ABX9TyM/ZSkknk5qjGPIZbFZaYko",
      "include_colab_link": true
    },
    "kernelspec": {
      "name": "python3",
      "display_name": "Python 3"
    },
    "language_info": {
      "name": "python"
    }
  },
  "cells": [
    {
      "cell_type": "markdown",
      "metadata": {
        "id": "view-in-github",
        "colab_type": "text"
      },
      "source": [
        "<a href=\"https://colab.research.google.com/github/MUHAMAD-NUR-AIDUL-HARPAN/MUHAMAD_NUR_AIDUL_HARPAN/blob/main/Untitled0.ipynb\" target=\"_parent\"><img src=\"https://colab.research.google.com/assets/colab-badge.svg\" alt=\"Open In Colab\"/></a>"
      ]
    },
    {
      "cell_type": "code",
      "source": [
        "print('='*36)\n",
        "print(' program menghitung luas & keliling ')\n",
        "print('='*36)\n",
        "print('1). luas segitiga\\n2). luas persegi panjang\\n3). keliling persegi panjang')\n",
        "print('kelik Y untuk melanjutkan klik N untuk berhenti dari program\\n')\n",
        "\n",
        "\n",
        "\n",
        "def luas_segitiga():\n",
        "    print('='*10,'PROGRAM LUAS SEGITIGA','='*10)\n",
        "    alas = float(input('masukan nilai alas\\t = '))\n",
        "    tinggi = float(input('masukan nilai tinggi\\t = '))\n",
        "    luas = 1/2 * alas * tinggi\n",
        "    \n",
        "    print('luas segitiga adalah ',luas)\n",
        "\n",
        "def luas_persegi_panjang():\n",
        "    print('='*10,'LUAS PERSEGI PANJANG','='*10)\n",
        "    panjang = int(input('masukan nilai panjang\\t = '))\n",
        "    lebar = int(input('masukan nilai lebar\\t = '))\n",
        "    L = panjang * lebar\n",
        "    print('luas persegi panjang adalah\\t = ',L)\n",
        "\n",
        "def keliling_persegi_panjang():\n",
        "    print('='*10,'KELILING PERSEGI PANJAG','='*10)\n",
        "    p = int(input('masukan nilai panjagn\\t = '))\n",
        "    l = int(input('masukan nilai lebar\\t = '))\n",
        "    K = p + l + p + l\n",
        "    print('keliling persegi panjang\\t = ',K)\n",
        "\n",
        "while True:\n",
        "    \n",
        "    user = input('masukan nomor untuk memilih program = ')\n",
        "\n",
        "    if(user == '1'):\n",
        "        luas_segitiga()\n",
        "    elif(user == '2'):\n",
        "        luas_persegi_panjang()\n",
        "    elif(user == '3'):\n",
        "        keliling_persegi_panjang()\n",
        "    elif(user == 'Y'):\n",
        "        user\n",
        "    elif(user == 'N'):\n",
        "        print('terimakasih telah mengerjakan program ini ')\n",
        "        break\n",
        "    else:\n",
        "        print('MOHON MASUKAN KODE YANG LAIN!!!')"
      ],
      "metadata": {
        "colab": {
          "base_uri": "https://localhost:8080/"
        },
        "id": "4KyaPnd-zZQv",
        "outputId": "82359573-349d-41a6-b686-31adf53c0d4a"
      },
      "execution_count": 2,
      "outputs": [
        {
          "output_type": "stream",
          "name": "stdout",
          "text": [
            "====================================\n",
            " program menghitung luas & keliling \n",
            "====================================\n",
            "1). luas segitiga\n",
            "2). luas persegi panjang\n",
            "3). keliling persegi panjang\n",
            "kelik Y untuk melanjutkan klik N untuk berhenti dari program\n",
            "\n",
            "masukan nomor untuk memilih program = 1\n",
            "========== PROGRAM LUAS SEGITIGA ==========\n",
            "masukan nilai alas\t = 8\n",
            "masukan nilai tinggi\t = 12\n",
            "luas segitiga adalah  48.0\n",
            "masukan nomor untuk memilih program = 2\n",
            "========== LUAS PERSEGI PANJANG ==========\n",
            "masukan nilai panjang\t = 8\n",
            "masukan nilai lebar\t = 5\n",
            "luas persegi panjang adalah\t =  40\n",
            "masukan nomor untuk memilih program = 3\n",
            "========== KELILING PERSEGI PANJAG ==========\n",
            "masukan nilai panjagn\t = 8\n",
            "masukan nilai lebar\t = 5\n",
            "keliling persegi panjang\t =  26\n",
            "masukan nomor untuk memilih program = N\n",
            "terimakasih telah mengerjakan program ini \n"
          ]
        }
      ]
    },
    {
      "cell_type": "code",
      "source": [
        "def bayar_kos(biaya_kos, denda_keterlambatan, keterlambatan):\n",
        "    return biaya_kos + denda_keterlambatan * keterlambatan \n",
        "\n",
        "print('total biaya kos yang harus di bayar = ',bayar_kos(850.000, 50.000, 5))"
      ],
      "metadata": {
        "colab": {
          "base_uri": "https://localhost:8080/"
        },
        "id": "gY_B8UxvztIw",
        "outputId": "5ac69711-4c18-468e-c82b-41fdb3e54385"
      },
      "execution_count": 3,
      "outputs": [
        {
          "output_type": "stream",
          "name": "stdout",
          "text": [
            "total biaya kos yang harus di bayar =  1100.0\n"
          ]
        }
      ]
    }
  ]
}